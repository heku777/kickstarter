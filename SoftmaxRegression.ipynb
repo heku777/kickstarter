{
 "cells": [
  {
   "cell_type": "code",
   "execution_count": 1,
   "metadata": {},
   "outputs": [
    {
     "name": "stderr",
     "output_type": "stream",
     "text": [
      "Duplicate key in file PosixPath('/Users/akira/opt/anaconda3/envs/practice/lib/python3.7/site-packages/matplotlib/mpl-data/matplotlibrc'), line 250 ('font.family:  sans-serif')\n"
     ]
    }
   ],
   "source": [
    "import pandas as pd\n",
    "import numpy as np\n",
    "import matplotlib.pyplot as plt\n",
    "%matplotlib inline  \n",
    "import seaborn as sns\n",
    "# preprocessing：前処理  StandardScaler：標準化\n",
    "from sklearn.preprocessing import StandardScaler\n",
    "# データを訓練データとテストデータに分割する\n",
    "from sklearn.model_selection import train_test_split\n",
    "# クラス分類をする\n",
    "from sklearn.linear_model import SGDClassifier\n",
    "# 評価指標\n",
    "from sklearn.metrics import log_loss, accuracy_score, precision_recall_fscore_support, confusion_matrix, precision_score, recall_score, f1_score\n",
    "# 平均絶対誤差\n",
    "from sklearn.metrics import mean_absolute_error\n",
    "# 日時を扱う\n",
    "import datetime as dt\n",
    "# ロジスティック回帰\n",
    "from sklearn.linear_model import LogisticRegression\n",
    "# AUCとROC\n",
    "from sklearn.metrics import roc_curve, auc, roc_auc_score\n",
    "from mlxtend.plotting import plot_decision_regions\n"
   ]
  },
  {
   "cell_type": "code",
   "execution_count": 2,
   "metadata": {},
   "outputs": [],
   "source": [
    "# データの読み込み\n",
    "kickstar = pd.read_csv('./data/ks-projects-201801 2.csv')\n",
    "\n",
    "# いらないカラムの削除\n",
    "kickstar = kickstar.drop(['ID', 'name', 'category'], axis=1)\n",
    "\n",
    "# 開始日と締め切りの差を期間として、periodという新しいカラムを作成\n",
    "kickstar['deadline'] = pd.to_datetime(kickstar['deadline'])\n",
    "kickstar['launched'] = pd.to_datetime(kickstar['launched'])\n",
    "kickstar['period'] = (kickstar['deadline'] - kickstar['launched']).dt.days\n",
    "kickstar =kickstar.drop(['deadline', 'launched'], axis=1)\n",
    "\n",
    "# ダミー変数の作成\n",
    "kickstar = pd.get_dummies(kickstar,columns=['main_category', 'currency', 'country'])\n",
    "\n",
    "# 欠損行削除\n",
    "kickstar = kickstar.dropna()\n",
    "\n",
    "# 目的変数を成功か失敗の２つに絞る\n",
    "kickstar = kickstar[(kickstar['state'] == 'successful') | (kickstar['state'] == 'failed')]\n",
    "\n",
    "# 説明変数と目的変数を用意\n",
    "y = kickstar['state'].values #'state' の値をyに代入する\n",
    "X = kickstar.drop('state', axis=1).values #'state'以外の変数をXに代入する\n",
    "\n",
    "# trainとtestに分割\n",
    "test_size = 0.2 #テストデータの割合を決める\n",
    "X_train, X_test, y_train, y_test = train_test_split(X, y, test_size=test_size, random_state=0)\n",
    "#訓練データとテストデータに分割し、それぞれ変数に代入する"
   ]
  },
  {
   "cell_type": "code",
   "execution_count": 3,
   "metadata": {},
   "outputs": [
    {
     "name": "stdout",
     "output_type": "stream",
     "text": [
      "X_train: (265172, 59)\n",
      "X_test: (66293, 59)\n",
      "y_train: (265172,)\n",
      "y_test: (66293,)\n"
     ]
    }
   ],
   "source": [
    "print(f'X_train: {X_train.shape}')\n",
    "print(f'X_test: {X_test.shape}')\n",
    "print(f'y_train: {y_train.shape}')\n",
    "print(f'y_test: {y_test.shape}')"
   ]
  },
  {
   "cell_type": "code",
   "execution_count": 4,
   "metadata": {},
   "outputs": [],
   "source": [
    "# 標準化\n",
    "stdsc = StandardScaler()\n",
    "X_train_std = stdsc.fit_transform(X_train) #訓練データの標準化\n",
    "X_test_std = stdsc.transform(X_test) #テストデータの標準化"
   ]
  },
  {
   "cell_type": "markdown",
   "metadata": {},
   "source": [
    "# ソフトマックス回帰\n",
    "\n",
    "## 引数\n",
    "\n",
    "### multi_class\n",
    "multinomialを指定することで、ソフトマックス回帰になる。\n",
    "\n",
    "### solber\n",
    "計算に使用するライブラリ。  \n",
    "ソフトマックスでは「lbfgs」を指定。"
   ]
  },
  {
   "cell_type": "code",
   "execution_count": 5,
   "metadata": {},
   "outputs": [
    {
     "name": "stderr",
     "output_type": "stream",
     "text": [
      "/Users/akira/opt/anaconda3/envs/practice/lib/python3.7/site-packages/sklearn/linear_model/_logistic.py:764: ConvergenceWarning: lbfgs failed to converge (status=1):\n",
      "STOP: TOTAL NO. of ITERATIONS REACHED LIMIT.\n",
      "\n",
      "Increase the number of iterations (max_iter) or scale the data as shown in:\n",
      "    https://scikit-learn.org/stable/modules/preprocessing.html\n",
      "Please also refer to the documentation for alternative solver options:\n",
      "    https://scikit-learn.org/stable/modules/linear_model.html#logistic-regression\n",
      "  extra_warning_msg=_LOGISTIC_SOLVER_CONVERGENCE_MSG)\n"
     ]
    },
    {
     "data": {
      "text/plain": [
       "LogisticRegression(multi_class='multinomial', random_state=0)"
      ]
     },
     "execution_count": 5,
     "metadata": {},
     "output_type": "execute_result"
    }
   ],
   "source": [
    "# ロジスティック回帰のモデル作成\n",
    "model = LogisticRegression(max_iter=100, multi_class='multinomial', solver='lbfgs', C=1.0, penalty='l2', l1_ratio=None, random_state=0)\n",
    "\n",
    "# 学習\n",
    "model.fit(X_train_std, y_train)"
   ]
  },
  {
   "cell_type": "code",
   "execution_count": 6,
   "metadata": {},
   "outputs": [
    {
     "data": {
      "text/plain": [
       "array(['failed', 'successful', 'successful', ..., 'failed', 'failed',\n",
       "       'failed'], dtype=object)"
      ]
     },
     "execution_count": 6,
     "metadata": {},
     "output_type": "execute_result"
    }
   ],
   "source": [
    "y_pred = model.predict(X_test_std)\n",
    "y_pred"
   ]
  },
  {
   "cell_type": "code",
   "execution_count": null,
   "metadata": {},
   "outputs": [],
   "source": []
  },
  {
   "cell_type": "code",
   "execution_count": null,
   "metadata": {},
   "outputs": [],
   "source": []
  }
 ],
 "metadata": {
  "kernelspec": {
   "display_name": "Python 3",
   "language": "python",
   "name": "python3"
  },
  "language_info": {
   "codemirror_mode": {
    "name": "ipython",
    "version": 3
   },
   "file_extension": ".py",
   "mimetype": "text/x-python",
   "name": "python",
   "nbconvert_exporter": "python",
   "pygments_lexer": "ipython3",
   "version": "3.7.9"
  }
 },
 "nbformat": 4,
 "nbformat_minor": 4
}
