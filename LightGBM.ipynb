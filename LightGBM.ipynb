{
 "cells": [
  {
   "cell_type": "code",
   "execution_count": 1,
   "metadata": {},
   "outputs": [
    {
     "name": "stderr",
     "output_type": "stream",
     "text": [
      "Duplicate key in file PosixPath('/Users/akira/opt/anaconda3/envs/practice/lib/python3.7/site-packages/matplotlib/mpl-data/matplotlibrc'), line 250 ('font.family:  sans-serif')\n",
      "/Users/akira/opt/anaconda3/envs/practice/lib/python3.7/site-packages/lightgbm/__init__.py:48: UserWarning: Starting from version 2.2.1, the library file in distribution wheels for macOS is built by the Apple Clang (Xcode_8.3.3) compiler.\n",
      "This means that in case of installing LightGBM from PyPI via the ``pip install lightgbm`` command, you don't need to install the gcc compiler anymore.\n",
      "Instead of that, you need to install the OpenMP library, which is required for running LightGBM on the system with the Apple Clang compiler.\n",
      "You can install the OpenMP library by the following command: ``brew install libomp``.\n",
      "  \"You can install the OpenMP library by the following command: ``brew install libomp``.\", UserWarning)\n"
     ]
    }
   ],
   "source": [
    "import pandas as pd\n",
    "import numpy as np\n",
    "import matplotlib.pyplot as plt\n",
    "%matplotlib inline  \n",
    "import seaborn as sns\n",
    "# preprocessing：前処理  StandardScaler：標準化\n",
    "from sklearn.preprocessing import StandardScaler\n",
    "# データを訓練データとテストデータに分割する\n",
    "from sklearn.model_selection import train_test_split\n",
    "# クラス分類をする\n",
    "from sklearn.linear_model import SGDClassifier\n",
    "# 評価指標\n",
    "from sklearn.metrics import log_loss, accuracy_score, precision_recall_fscore_support, confusion_matrix, precision_score, recall_score, f1_score\n",
    "# 平均絶対誤差\n",
    "from sklearn.metrics import mean_absolute_error\n",
    "# 日時を扱う\n",
    "import datetime as dt\n",
    "# ロジスティック回帰\n",
    "from sklearn.linear_model import LogisticRegression\n",
    "# AUCとROC\n",
    "from sklearn.metrics import roc_curve, auc, roc_auc_score\n",
    "# 決定木\n",
    "from sklearn import tree\n",
    "# LightGBM\n",
    "import lightgbm as lgb #LightGBM"
   ]
  },
  {
   "cell_type": "code",
   "execution_count": 2,
   "metadata": {},
   "outputs": [],
   "source": [
    "# データの読み込み\n",
    "kickstar = pd.read_csv('./data/ks-projects-201801 2.csv')\n",
    "\n",
    "# いらないカラムの削除\n",
    "kickstar = kickstar.drop(['ID', 'name', 'category', 'usd_pledged_real', 'usd_goal_real', 'main_category', 'currency', 'country'], axis=1)\n",
    "\n",
    "# 開始日と締め切りの差を期間として、periodという新しいカラムを作成\n",
    "kickstar['deadline'] = pd.to_datetime(kickstar['deadline'])\n",
    "kickstar['launched'] = pd.to_datetime(kickstar['launched'])\n",
    "kickstar['period'] = (kickstar['deadline'] - kickstar['launched']).dt.days\n",
    "kickstar =kickstar.drop(['deadline', 'launched'], axis=1)\n",
    "\n",
    "# ダミー変数の作成\n",
    "# kickstar = pd.get_dummies(kickstar,columns=['main_category', 'currency', 'country'])\n",
    "\n",
    "# 欠損行削除\n",
    "# kickstar = kickstar.dropna()\n",
    "\n",
    "# 目的変数を成功か失敗の２つに絞る\n",
    "kickstar = kickstar[(kickstar['state'] == 'successful') | (kickstar['state'] == 'failed')]\n",
    "\n",
    "# 説明変数と目的変数を用意\n",
    "y = kickstar['state'].values #'state' の値をyに代入する\n",
    "X = kickstar.drop('state', axis=1).values #'state'以外の変数をXに代入する\n",
    "\n",
    "# trainとtestに分割\n",
    "test_size = 0.2 #テストデータの割合を決める\n",
    "X_train, X_test, y_train, y_test = train_test_split(X, y, test_size=test_size, random_state=0)\n",
    "#訓練データとテストデータに分割し、それぞれ変数に代入する"
   ]
  },
  {
   "cell_type": "code",
   "execution_count": 3,
   "metadata": {},
   "outputs": [
    {
     "name": "stdout",
     "output_type": "stream",
     "text": [
      "X_train: (265340, 5)\n",
      "X_test: (66335, 5)\n",
      "y_train: (265340,)\n",
      "y_test: (66335,)\n"
     ]
    }
   ],
   "source": [
    "print(f'X_train: {X_train.shape}')\n",
    "print(f'X_test: {X_test.shape}')\n",
    "print(f'y_train: {y_train.shape}')\n",
    "print(f'y_test: {y_test.shape}')"
   ]
  },
  {
   "cell_type": "code",
   "execution_count": 4,
   "metadata": {},
   "outputs": [],
   "source": [
    "# 標準化\n",
    "stdsc = StandardScaler()\n",
    "X_train_std = stdsc.fit_transform(X_train) #訓練データの標準化\n",
    "X_test_std = stdsc.transform(X_test) #テストデータの標準化"
   ]
  },
  {
   "cell_type": "code",
   "execution_count": 5,
   "metadata": {
    "collapsed": false,
    "jupyter": {
     "outputs_hidden": false
    },
    "pycharm": {
     "name": "#%%\n"
    }
   },
   "outputs": [],
   "source": [
    "# モデルの学習\n",
    "model = lgb.LGBMClassifier() # モデルのインスタンスの作成\n",
    "model.fit(X_train, y_train) # モデルの学習\n",
    "\n",
    "# テストデータの予測クラス (予測クラス(0 or 1 or 2)を返す)\n",
    "y_pred = model.predict(X_test_std)\n",
    "# テストデータのクラス予測確率 (各クラスの予測確率 [クラス0の予測確率,クラス1の予測確率,クラス2の予測確率] を返す)\n",
    "y_pred_prob = model.predict_proba(X_test_std)"
   ]
  },
  {
   "cell_type": "code",
   "execution_count": 6,
   "metadata": {},
   "outputs": [
    {
     "data": {
      "text/html": [
       "<div>\n",
       "<style scoped>\n",
       "    .dataframe tbody tr th:only-of-type {\n",
       "        vertical-align: middle;\n",
       "    }\n",
       "\n",
       "    .dataframe tbody tr th {\n",
       "        vertical-align: top;\n",
       "    }\n",
       "\n",
       "    .dataframe thead th {\n",
       "        text-align: right;\n",
       "    }\n",
       "</style>\n",
       "<table border=\"1\" class=\"dataframe\">\n",
       "  <thead>\n",
       "    <tr style=\"text-align: right;\">\n",
       "      <th></th>\n",
       "      <th>target</th>\n",
       "      <th>target_pred</th>\n",
       "    </tr>\n",
       "  </thead>\n",
       "  <tbody>\n",
       "    <tr>\n",
       "      <th>0</th>\n",
       "      <td>successful</td>\n",
       "      <td>failed</td>\n",
       "    </tr>\n",
       "    <tr>\n",
       "      <th>1</th>\n",
       "      <td>failed</td>\n",
       "      <td>failed</td>\n",
       "    </tr>\n",
       "    <tr>\n",
       "      <th>2</th>\n",
       "      <td>successful</td>\n",
       "      <td>failed</td>\n",
       "    </tr>\n",
       "    <tr>\n",
       "      <th>3</th>\n",
       "      <td>failed</td>\n",
       "      <td>successful</td>\n",
       "    </tr>\n",
       "    <tr>\n",
       "      <th>4</th>\n",
       "      <td>failed</td>\n",
       "      <td>failed</td>\n",
       "    </tr>\n",
       "    <tr>\n",
       "      <th>...</th>\n",
       "      <td>...</td>\n",
       "      <td>...</td>\n",
       "    </tr>\n",
       "    <tr>\n",
       "      <th>66330</th>\n",
       "      <td>successful</td>\n",
       "      <td>failed</td>\n",
       "    </tr>\n",
       "    <tr>\n",
       "      <th>66331</th>\n",
       "      <td>failed</td>\n",
       "      <td>failed</td>\n",
       "    </tr>\n",
       "    <tr>\n",
       "      <th>66332</th>\n",
       "      <td>failed</td>\n",
       "      <td>failed</td>\n",
       "    </tr>\n",
       "    <tr>\n",
       "      <th>66333</th>\n",
       "      <td>failed</td>\n",
       "      <td>failed</td>\n",
       "    </tr>\n",
       "    <tr>\n",
       "      <th>66334</th>\n",
       "      <td>failed</td>\n",
       "      <td>successful</td>\n",
       "    </tr>\n",
       "  </tbody>\n",
       "</table>\n",
       "<p>66335 rows × 2 columns</p>\n",
       "</div>"
      ],
      "text/plain": [
       "           target target_pred\n",
       "0      successful      failed\n",
       "1          failed      failed\n",
       "2      successful      failed\n",
       "3          failed  successful\n",
       "4          failed      failed\n",
       "...           ...         ...\n",
       "66330  successful      failed\n",
       "66331      failed      failed\n",
       "66332      failed      failed\n",
       "66333      failed      failed\n",
       "66334      failed  successful\n",
       "\n",
       "[66335 rows x 2 columns]"
      ]
     },
     "metadata": {},
     "output_type": "display_data"
    },
    {
     "data": {
      "text/html": [
       "<div>\n",
       "<style scoped>\n",
       "    .dataframe tbody tr th:only-of-type {\n",
       "        vertical-align: middle;\n",
       "    }\n",
       "\n",
       "    .dataframe tbody tr th {\n",
       "        vertical-align: top;\n",
       "    }\n",
       "\n",
       "    .dataframe thead th {\n",
       "        text-align: right;\n",
       "    }\n",
       "</style>\n",
       "<table border=\"1\" class=\"dataframe\">\n",
       "  <thead>\n",
       "    <tr style=\"text-align: right;\">\n",
       "      <th></th>\n",
       "      <th>y</th>\n",
       "      <th>target0_prob</th>\n",
       "      <th>target1_prob</th>\n",
       "    </tr>\n",
       "  </thead>\n",
       "  <tbody>\n",
       "    <tr>\n",
       "      <th>0</th>\n",
       "      <td>successful</td>\n",
       "      <td>0.993540</td>\n",
       "      <td>0.006460</td>\n",
       "    </tr>\n",
       "    <tr>\n",
       "      <th>1</th>\n",
       "      <td>failed</td>\n",
       "      <td>0.993540</td>\n",
       "      <td>0.006460</td>\n",
       "    </tr>\n",
       "    <tr>\n",
       "      <th>2</th>\n",
       "      <td>successful</td>\n",
       "      <td>0.993540</td>\n",
       "      <td>0.006460</td>\n",
       "    </tr>\n",
       "    <tr>\n",
       "      <th>3</th>\n",
       "      <td>failed</td>\n",
       "      <td>0.044032</td>\n",
       "      <td>0.955968</td>\n",
       "    </tr>\n",
       "    <tr>\n",
       "      <th>4</th>\n",
       "      <td>failed</td>\n",
       "      <td>0.993540</td>\n",
       "      <td>0.006460</td>\n",
       "    </tr>\n",
       "    <tr>\n",
       "      <th>...</th>\n",
       "      <td>...</td>\n",
       "      <td>...</td>\n",
       "      <td>...</td>\n",
       "    </tr>\n",
       "    <tr>\n",
       "      <th>66330</th>\n",
       "      <td>successful</td>\n",
       "      <td>0.993540</td>\n",
       "      <td>0.006460</td>\n",
       "    </tr>\n",
       "    <tr>\n",
       "      <th>66331</th>\n",
       "      <td>failed</td>\n",
       "      <td>0.993540</td>\n",
       "      <td>0.006460</td>\n",
       "    </tr>\n",
       "    <tr>\n",
       "      <th>66332</th>\n",
       "      <td>failed</td>\n",
       "      <td>0.993540</td>\n",
       "      <td>0.006460</td>\n",
       "    </tr>\n",
       "    <tr>\n",
       "      <th>66333</th>\n",
       "      <td>failed</td>\n",
       "      <td>0.993540</td>\n",
       "      <td>0.006460</td>\n",
       "    </tr>\n",
       "    <tr>\n",
       "      <th>66334</th>\n",
       "      <td>failed</td>\n",
       "      <td>0.044032</td>\n",
       "      <td>0.955968</td>\n",
       "    </tr>\n",
       "  </tbody>\n",
       "</table>\n",
       "<p>66335 rows × 3 columns</p>\n",
       "</div>"
      ],
      "text/plain": [
       "                y  target0_prob  target1_prob\n",
       "0      successful      0.993540      0.006460\n",
       "1          failed      0.993540      0.006460\n",
       "2      successful      0.993540      0.006460\n",
       "3          failed      0.044032      0.955968\n",
       "4          failed      0.993540      0.006460\n",
       "...           ...           ...           ...\n",
       "66330  successful      0.993540      0.006460\n",
       "66331      failed      0.993540      0.006460\n",
       "66332      failed      0.993540      0.006460\n",
       "66333      failed      0.993540      0.006460\n",
       "66334      failed      0.044032      0.955968\n",
       "\n",
       "[66335 rows x 3 columns]"
      ]
     },
     "metadata": {},
     "output_type": "display_data"
    }
   ],
   "source": [
    "# 真値と予測値の表示\n",
    "df_pred = pd.DataFrame({'target':y_test,'target_pred':y_pred})\n",
    "display(df_pred)\n",
    "\n",
    "# 真値と予測確率の表示\n",
    "df_pred_prob = pd.DataFrame({'y':y_test, 'target0_prob':y_pred_prob[:,0], 'target1_prob':y_pred_prob[:,1]})\n",
    "display(df_pred_prob)"
   ]
  },
  {
   "cell_type": "code",
   "execution_count": 7,
   "metadata": {},
   "outputs": [
    {
     "name": "stdout",
     "output_type": "stream",
     "text": [
      "Acc : 0.7053742368282204\n"
     ]
    }
   ],
   "source": [
    "# モデル評価\n",
    "# acc : 正答率\n",
    "acc = accuracy_score(y_test,y_pred)\n",
    "print('Acc :', acc)"
   ]
  },
  {
   "cell_type": "code",
   "execution_count": 9,
   "metadata": {},
   "outputs": [
    {
     "data": {
      "image/png": "[encoded data removed]",
      "text/plain": [
       "<Figure size 432x288 with 1 Axes>"
      ]
     },
     "metadata": {
      "needs_background": "light"
     },
     "output_type": "display_data"
    }
   ],
   "source": [
    "# ROC曲線の描画\n",
    "from sklearn import metrics\n",
    "\n",
    "fpr, tpr, thresholds = roc_curve(y_test,y_pred_prob[:,1], pos_label=\"successful\")\n",
    "auc = metrics.auc(fpr, tpr)\n",
    "plt.plot(fpr, tpr, label='ROC curve (area = %.2f)'%auc)\n",
    "plt.legend()\n",
    "plt.xlabel('FPR: False positive rate')\n",
    "plt.ylabel('TPR: True positive rate')\n",
    "plt.grid()\n",
    "plt.show()"
   ]
  },
  {
   "cell_type": "code",
   "execution_count": null,
   "metadata": {},
   "outputs": [],
   "source": []
  },
  {
   "cell_type": "code",
   "execution_count": null,
   "metadata": {},
   "outputs": [],
   "source": []
  }
 ],
 "metadata": {
  "kernelspec": {
   "display_name": "Python 3",
   "language": "python",
   "name": "python3"
  },
  "language_info": {
   "codemirror_mode": {
    "name": "ipython",
    "version": 3
   },
   "file_extension": ".py",
   "mimetype": "text/x-python",
   "name": "python",
   "nbconvert_exporter": "python",
   "pygments_lexer": "ipython3",
   "version": "3.7.9"
  }
 },
 "nbformat": 4,
 "nbformat_minor": 4
}
