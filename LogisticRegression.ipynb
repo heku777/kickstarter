{
 "cells": [
  {
   "cell_type": "code",
   "execution_count": 1,
   "metadata": {},
   "outputs": [
    {
     "name": "stderr",
     "output_type": "stream",
     "text": [
      "Duplicate key in file PosixPath('/Users/akira/opt/anaconda3/envs/practice/lib/python3.7/site-packages/matplotlib/mpl-data/matplotlibrc'), line 250 ('font.family:  sans-serif')\n"
     ]
    }
   ],
   "source": [
    "import pandas as pd\n",
    "import numpy as np\n",
    "import matplotlib.pyplot as plt\n",
    "%matplotlib inline  \n",
    "import seaborn as sns\n",
    "# preprocessing：前処理  StandardScaler：標準化\n",
    "from sklearn.preprocessing import StandardScaler\n",
    "# データを訓練データとテストデータに分割する\n",
    "from sklearn.model_selection import train_test_split\n",
    "# クラス分類をする\n",
    "from sklearn.linear_model import SGDClassifier\n",
    "# 評価指標\n",
    "from sklearn.metrics import log_loss, accuracy_score, precision_recall_fscore_support, confusion_matrix, precision_score, recall_score, f1_score\n",
    "# 平均絶対誤差\n",
    "from sklearn.metrics import mean_absolute_error\n",
    "# 日時を扱う\n",
    "import datetime as dt\n",
    "# ロジスティック回帰\n",
    "from sklearn.linear_model import LogisticRegression\n",
    "# AUCとROC\n",
    "from sklearn.metrics import roc_curve, auc, roc_auc_score"
   ]
  },
  {
   "cell_type": "code",
   "execution_count": 2,
   "metadata": {},
   "outputs": [],
   "source": [
    "# データの読み込み\n",
    "kickstar = pd.read_csv('./data/ks-projects-201801 2.csv')\n",
    "\n",
    "# いらないカラムの削除\n",
    "kickstar = kickstar.drop(['ID', 'name', 'category'], axis=1)\n",
    "\n",
    "# 開始日と締め切りの差を期間として、periodという新しいカラムを作成\n",
    "kickstar['deadline'] = pd.to_datetime(kickstar['deadline'])\n",
    "kickstar['launched'] = pd.to_datetime(kickstar['launched'])\n",
    "kickstar['period'] = (kickstar['deadline'] - kickstar['launched']).dt.days\n",
    "kickstar =kickstar.drop(['deadline', 'launched'], axis=1)\n",
    "\n",
    "# ダミー変数の作成\n",
    "kickstar = pd.get_dummies(kickstar,columns=['main_category', 'currency', 'country'])\n",
    "\n",
    "# 欠損行削除\n",
    "kickstar = kickstar.dropna()\n",
    "\n",
    "# 目的変数を成功か失敗の２つに絞る\n",
    "kickstar = kickstar[(kickstar['state'] == 'successful') | (kickstar['state'] == 'failed')]\n",
    "\n",
    "# 説明変数と目的変数を用意\n",
    "y = kickstar['state'].values #'state' の値をyに代入する\n",
    "X = kickstar.drop('state', axis=1).values #'state'以外の変数をXに代入する\n",
    "\n",
    "# trainとtestに分割\n",
    "test_size = 0.2 #テストデータの割合を決める\n",
    "X_train, X_test, y_train, y_test = train_test_split(X, y, test_size=test_size, random_state=0)\n",
    "#訓練データとテストデータに分割し、それぞれ変数に代入する"
   ]
  },
  {
   "cell_type": "code",
   "execution_count": 3,
   "metadata": {},
   "outputs": [
    {
     "name": "stdout",
     "output_type": "stream",
     "text": [
      "X_train: (265172, 59)\n",
      "X_test: (66293, 59)\n",
      "y_train: (265172,)\n",
      "y_test: (66293,)\n"
     ]
    }
   ],
   "source": [
    "print(f'X_train: {X_train.shape}')\n",
    "print(f'X_test: {X_test.shape}')\n",
    "print(f'y_train: {y_train.shape}')\n",
    "print(f'y_test: {y_test.shape}')"
   ]
  },
  {
   "cell_type": "code",
   "execution_count": 4,
   "metadata": {},
   "outputs": [],
   "source": [
    "# 標準化\n",
    "stdsc = StandardScaler()\n",
    "X_train_std = stdsc.fit_transform(X_train) #訓練データの標準化\n",
    "X_test_std = stdsc.transform(X_test) #テストデータの標準化"
   ]
  },
  {
   "cell_type": "markdown",
   "metadata": {},
   "source": [
    "# ロジスティック回帰\n",
    "\n",
    "* 特徴量空間（説明変数となるデータがある空間）が線形分離可能な場合のみ高い性能を発揮します。\n",
    "\n",
    "## 引数\n",
    "\n",
    "### penalty\n",
    "正則化の方法を指定するパラメータ。'l1'か'l2'を指定する。'l1'を指定した場合はL1正則化、'l2'を指定した場合はL2正則化を行う（デフォルト値は'l2'）。L1正則化は多くの説明変数の重みが0になるようにし、特徴選択の手法としても使用される。L2正則化は説明変数の重みが大きくなりすぎるのを防ぎ、過学習を回避するために利用される。\n",
    "\n",
    "### C\n",
    "正則化の強さを指定するパラメータ。正の値を指定する（デフォルト値は1.0）。Cの値が小さいほど正則化の強さが増す。\n",
    "\n",
    "### random_state\n",
    "乱数生成器のシードを指定するパラメータ。モデルの再現性を担保。"
   ]
  },
  {
   "cell_type": "code",
   "execution_count": 5,
   "metadata": {},
   "outputs": [
    {
     "name": "stderr",
     "output_type": "stream",
     "text": [
      "/Users/akira/opt/anaconda3/envs/practice/lib/python3.7/site-packages/sklearn/linear_model/_logistic.py:764: ConvergenceWarning: lbfgs failed to converge (status=1):\n",
      "STOP: TOTAL NO. of ITERATIONS REACHED LIMIT.\n",
      "\n",
      "Increase the number of iterations (max_iter) or scale the data as shown in:\n",
      "    https://scikit-learn.org/stable/modules/preprocessing.html\n",
      "Please also refer to the documentation for alternative solver options:\n",
      "    https://scikit-learn.org/stable/modules/linear_model.html#logistic-regression\n",
      "  extra_warning_msg=_LOGISTIC_SOLVER_CONVERGENCE_MSG)\n"
     ]
    },
    {
     "data": {
      "text/plain": [
       "LogisticRegression()"
      ]
     },
     "execution_count": 5,
     "metadata": {},
     "output_type": "execute_result"
    }
   ],
   "source": [
    "# ロジスティック回帰のモデル作成\n",
    "model = LogisticRegression()\n",
    "\n",
    "# 学習\n",
    "model.fit(X_train_std, y_train)"
   ]
  },
  {
   "cell_type": "code",
   "execution_count": 6,
   "metadata": {},
   "outputs": [
    {
     "name": "stdout",
     "output_type": "stream",
     "text": [
      "coefficient = [[-1.09952153e+02  2.23195585e+01  1.88893810e+01 -2.95352505e+00\n",
      "   9.28150302e+00 -1.07289197e+02 -2.05423208e-01  1.06646391e-01\n",
      "   5.47849690e-02 -3.98014542e-02  1.06953648e-01 -1.25728439e-01\n",
      "  -9.61371462e-02  1.42584164e-01 -8.53802820e-02 -1.87957652e-01\n",
      "  -2.87465507e-02  1.90437274e-01 -4.09199832e-03 -1.84713655e-02\n",
      "  -2.01178488e-01  1.87340276e-01 -1.22326921e-02 -6.89878839e-03\n",
      "  -6.32485373e-03  1.63031915e-04 -2.69202896e-02  2.12357684e-02\n",
      "  -1.81447328e-02 -4.75186701e-02 -3.33210326e-02 -1.24177123e-02\n",
      "  -1.81057000e-03 -1.40447536e-02 -5.68790309e-03  1.90700461e-02\n",
      "  -1.08449072e-02 -1.22326921e-02  4.75415637e-03 -6.89878839e-03\n",
      "  -6.32485373e-03 -1.56250793e-02  1.63031915e-04 -1.32095761e-02\n",
      "   1.54073810e-02  2.12357684e-02 -1.81447328e-02 -9.78700127e-03\n",
      "  -2.68648969e-02 -4.75186701e-02  1.79658158e-03 -3.33210326e-02\n",
      "   0.00000000e+00 -1.58926371e-02 -1.24177123e-02 -1.81057000e-03\n",
      "  -1.40447536e-02 -5.68790309e-03  1.90700461e-02]]\n",
      "intercept = [-3.79831037]\n"
     ]
    }
   ],
   "source": [
    "print(\"coefficient = {}\".format(model.coef_))\n",
    "print(\"intercept = {}\".format(model.intercept_))"
   ]
  },
  {
   "cell_type": "code",
   "execution_count": 7,
   "metadata": {},
   "outputs": [
    {
     "data": {
      "text/plain": [
       "array(['failed', 'successful', 'successful', ..., 'failed', 'failed',\n",
       "       'failed'], dtype=object)"
      ]
     },
     "execution_count": 7,
     "metadata": {},
     "output_type": "execute_result"
    }
   ],
   "source": [
    "y_pred = model.predict(X_test_std)\n",
    "y_pred"
   ]
  },
  {
   "cell_type": "markdown",
   "metadata": {},
   "source": [
    "# 性能評価\n",
    "* 混同行列（confusion matrix）\n",
    "* 正解率（accuracy）\n",
    "* 適合率（precision）\n",
    "* 再現率（recall）\n",
    "* F1スコア（F1-score）\n",
    "* AUC（曲線下面積）\n",
    "\n",
    "## 混同行列\n",
    "- TN(True Negative) : 実際にクラス0で正しくクラス0に分類されたデータ数（真陰性）  `\n",
    "- FP(False Positive) : 実際にはクラス0だが誤ってクラス1に分類されたデータ数(偽陽性)  \n",
    "- FN(False Positive) : 実際にはクラス1だが誤ってクラス0に分類されたデータ数(偽陰性)  \n",
    "- TP(True Positive) : 実際にクラス1で正しくクラス1に分類されたデータ数(真陽性)  \n",
    "「真・偽」は「分類が当たっているか」を表し、「陽性・陰性」は「クラス1・クラス0」を表します。  \n",
    "* `正解率` : 分類したデータの総数のうち、正しく分類されたデータ数の割合。 → (TP+TN)/(TP+FN+FP+TN)\n",
    "* `適合率` : クラス1に分類されたデータのうち、実際にクラス1であるデータ数の割合。 → TP/(TP+FP)\n",
    "* `再現率` : 実際にクラス1であるデータのうち、クラス1に分類されたデータ数の割合。 → TP/(TP+FN)\n",
    "* `F1スコア` : 適合率と再現率の調和平均。適合率と再現率はトレードオフの関係にあるため、F1スコアはこれらのバランスを評価するための指標と見ることができる。"
   ]
  },
  {
   "cell_type": "code",
   "execution_count": 8,
   "metadata": {},
   "outputs": [
    {
     "name": "stdout",
     "output_type": "stream",
     "text": [
      "confusion matrix = \n",
      " [[38260  1236]\n",
      " [ 4057 22740]]\n",
      "accuracy = 0.9201574826904801\n",
      "precision = 0.9484484484484484\n",
      "recall = 0.8486024554987499\n",
      "f1 score = 0.8957516790420105\n"
     ]
    }
   ],
   "source": [
    "print('confusion matrix = \\n', confusion_matrix(y_true=y_test, y_pred=y_pred))\n",
    "print('accuracy = {}'.format(accuracy_score(y_true=y_test, y_pred=y_pred)))\n",
    "print('precision = {}'.format(precision_score(y_true=y_test, y_pred=y_pred, pos_label=\"successful\")))\n",
    "print('recall = {}'.format(recall_score(y_true=y_test, y_pred=y_pred, pos_label=\"successful\")))\n",
    "print('f1 score = {}'.format(f1_score(y_true=y_test, y_pred=y_pred, pos_label=\"successful\")))"
   ]
  },
  {
   "cell_type": "markdown",
   "metadata": {},
   "source": [
    "# AUC\n",
    "ROC曲線の下側の面積部分。  \n",
    "値が大きいほど性能が良い。(最大値は１)  \n",
    "\n",
    "# ROC曲線\n",
    "横軸に偽陽性率（FPR: False Positive Rate）を、縦軸に真陽性率（TPR: True Positive Rate）をとった、モデルの分類性能を示した曲線。  \n",
    "閾値を調整して分類を調整。  "
   ]
  },
  {
   "cell_type": "code",
   "execution_count": 9,
   "metadata": {},
   "outputs": [
    {
     "data": {
      "image/png": "[encoded data removed]",
      "text/plain": [
       "<Figure size 432x288 with 1 Axes>"
      ]
     },
     "metadata": {
      "needs_background": "light"
     },
     "output_type": "display_data"
    }
   ],
   "source": [
    "y_score = model.predict_proba(X_test_std)[:, 1] # 検証データがクラス1に属する確率\n",
    "fpr, tpr, thresholds = roc_curve(y_true=y_test, y_score=y_score, pos_label=\"successful\")\n",
    "\n",
    "plt.plot(fpr, tpr, label='roc curve (area = %0.3f)' % auc(fpr, tpr))\n",
    "plt.plot([0, 1], [0, 1], linestyle='--', label='random')\n",
    "plt.plot([0, 0, 1], [0, 1, 1], linestyle='--', label='ideal')\n",
    "plt.legend()\n",
    "plt.xlabel('false positive rate')\n",
    "plt.ylabel('true positive rate')\n",
    "plt.show()"
   ]
  },
  {
   "cell_type": "code",
   "execution_count": 10,
   "metadata": {},
   "outputs": [
    {
     "name": "stdout",
     "output_type": "stream",
     "text": [
      "auc =  0.9770366063079581\n"
     ]
    }
   ],
   "source": [
    "print('auc = ', roc_auc_score(y_true=y_test, y_score=y_score))"
   ]
  },
  {
   "cell_type": "code",
   "execution_count": null,
   "metadata": {},
   "outputs": [],
   "source": []
  }
 ],
 "metadata": {
  "kernelspec": {
   "display_name": "Python 3",
   "language": "python",
   "name": "python3"
  },
  "language_info": {
   "codemirror_mode": {
    "name": "ipython",
    "version": 3
   },
   "file_extension": ".py",
   "mimetype": "text/x-python",
   "name": "python",
   "nbconvert_exporter": "python",
   "pygments_lexer": "ipython3",
   "version": "3.7.9"
  }
 },
 "nbformat": 4,
 "nbformat_minor": 4
}
